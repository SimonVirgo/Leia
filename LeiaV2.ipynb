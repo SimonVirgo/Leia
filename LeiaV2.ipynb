{
 "cells": [
  {
   "cell_type": "code",
   "execution_count": 1,
   "outputs": [],
   "source": [
    "import os\n",
    "import json\n",
    "import sys"
   ],
   "metadata": {
    "collapsed": false
   }
  },
  {
   "cell_type": "markdown",
   "source": [
    "## Read and set API keys"
   ],
   "metadata": {
    "collapsed": false
   }
  },
  {
   "cell_type": "code",
   "execution_count": 2,
   "outputs": [],
   "source": [
    "# Open and read the config file\n",
    "with open('config.json', 'r') as config_file:\n",
    "    config_data = json.load(config_file)\n",
    "\n",
    "# Retrieve the API key from the config data\n",
    "api_key = config_data['api_key']\n",
    "os.environ['OPENAI_API_KEY'] = api_key"
   ],
   "metadata": {
    "collapsed": false
   }
  },
  {
   "cell_type": "markdown",
   "source": [
    "## Logging"
   ],
   "metadata": {
    "collapsed": false
   }
  },
  {
   "cell_type": "code",
   "execution_count": null,
   "outputs": [],
   "source": [],
   "metadata": {
    "collapsed": false
   }
  },
  {
   "cell_type": "code",
   "execution_count": 3,
   "outputs": [],
   "source": [
    "# Set up logging\n",
    "import logging\n",
    "logging.basicConfig(stream=sys.stdout, level=logging.INFO) #DEBUG, INFO, WARNING, ERROR, CRITICAL\n",
    "logging.getLogger().addHandler(logging.StreamHandler(stream=sys.stdout))"
   ],
   "metadata": {
    "collapsed": false
   }
  },
  {
   "cell_type": "code",
   "execution_count": 4,
   "outputs": [
    {
     "name": "stdout",
     "output_type": "stream",
     "text": [
      "INFO:numexpr.utils:Note: NumExpr detected 10 cores but \"NUMEXPR_MAX_THREADS\" not set, so enforcing safe limit of 8.\n",
      "Note: NumExpr detected 10 cores but \"NUMEXPR_MAX_THREADS\" not set, so enforcing safe limit of 8.\n",
      "INFO:numexpr.utils:NumExpr defaulting to 8 threads.\n",
      "NumExpr defaulting to 8 threads.\n"
     ]
    }
   ],
   "source": [
    "import tiktoken\n",
    "from llama_index.callbacks import CallbackManager, TokenCountingHandler\n",
    "from llama_index import VectorStoreIndex, SimpleDirectoryReader, ServiceContext\n",
    "\n",
    "# you can set a tokenizer directly, or optionally let it default\n",
    "# to the same tokenizer that was used previously for token counting\n",
    "# NOTE: The tokenizer should be a function that takes in text and returns a list of tokens\n",
    "token_counter = TokenCountingHandler(\n",
    "    tokenizer=tiktoken.encoding_for_model(\"gpt-4\").encode,\n",
    "    verbose=True  # set to true to see usage printed to the console\n",
    "    )\n",
    "callback_manager = CallbackManager([token_counter])"
   ],
   "metadata": {
    "collapsed": false
   }
  },
  {
   "cell_type": "markdown",
   "source": [
    "## Load the index"
   ],
   "metadata": {
    "collapsed": false
   }
  },
  {
   "cell_type": "code",
   "execution_count": 5,
   "outputs": [
    {
     "name": "stdout",
     "output_type": "stream",
     "text": [
      "DEBUG:llama_index.storage.kvstore.simple_kvstore:Loading llama_index.storage.kvstore.simple_kvstore from ./storage/docstore.json.\n",
      "Loading llama_index.storage.kvstore.simple_kvstore from ./storage/docstore.json.\n",
      "DEBUG:fsspec.local:open file: /Users/simonvirgo/PycharmProjects/Leia/storage/docstore.json\n",
      "open file: /Users/simonvirgo/PycharmProjects/Leia/storage/docstore.json\n",
      "DEBUG:llama_index.storage.kvstore.simple_kvstore:Loading llama_index.storage.kvstore.simple_kvstore from ./storage/index_store.json.\n",
      "Loading llama_index.storage.kvstore.simple_kvstore from ./storage/index_store.json.\n",
      "DEBUG:fsspec.local:open file: /Users/simonvirgo/PycharmProjects/Leia/storage/index_store.json\n",
      "open file: /Users/simonvirgo/PycharmProjects/Leia/storage/index_store.json\n",
      "DEBUG:llama_index.vector_stores.simple:Loading llama_index.vector_stores.simple from ./storage/vector_store.json.\n",
      "Loading llama_index.vector_stores.simple from ./storage/vector_store.json.\n",
      "DEBUG:fsspec.local:open file: /Users/simonvirgo/PycharmProjects/Leia/storage/vector_store.json\n",
      "open file: /Users/simonvirgo/PycharmProjects/Leia/storage/vector_store.json\n",
      "DEBUG:llama_index.graph_stores.simple:Loading llama_index.graph_stores.simple from ./storage/graph_store.json.\n",
      "Loading llama_index.graph_stores.simple from ./storage/graph_store.json.\n",
      "DEBUG:fsspec.local:open file: /Users/simonvirgo/PycharmProjects/Leia/storage/graph_store.json\n",
      "open file: /Users/simonvirgo/PycharmProjects/Leia/storage/graph_store.json\n",
      "INFO:llama_index.indices.loading:Loading all indices.\n",
      "Loading all indices.\n"
     ]
    }
   ],
   "source": [
    "from llama_index import StorageContext, load_index_from_storage\n",
    "\n",
    "# rebuild storage context\n",
    "storage_context = StorageContext.from_defaults(persist_dir=\"./storage\")\n",
    "# load index\n",
    "index = load_index_from_storage(storage_context)"
   ],
   "metadata": {
    "collapsed": false
   }
  },
  {
   "cell_type": "markdown",
   "source": [
    "## GPT 4"
   ],
   "metadata": {
    "collapsed": false
   }
  },
  {
   "cell_type": "code",
   "execution_count": 6,
   "outputs": [],
   "source": [
    "from llama_index.llms import OpenAI\n",
    "from llama_index import ServiceContext\n",
    "\n",
    "gpt4 = OpenAI(temperature=0, model=\"gpt-4\")\n",
    "service_context_gpt4 = ServiceContext.from_defaults(llm=gpt4,callback_manager=callback_manager)"
   ],
   "metadata": {
    "collapsed": false
   }
  },
  {
   "cell_type": "markdown",
   "source": [
    "### create Prompt Template"
   ],
   "metadata": {
    "collapsed": false
   }
  },
  {
   "cell_type": "code",
   "execution_count": 7,
   "outputs": [],
   "source": [
    "from llama_index import Prompt\n",
    "# define custom Prompt\n",
    "TEMPLATE_STR = (\n",
    "    \"You are Leia, the LiquidEarth Intelligent Assistant. You are helping a user with a question about LiquidEarth. You are very smart and friendly and always in a great mood.\\n\"\n",
    "    \"In LiquidEarth, a 'Space' and a 'Project are the same thing. We have provided Documentation on the software and further information below. In some cases the metadata includes a 'Control' Field that points to a UI element in the app associated to the described functionality. this is only for internal use. when describing controls to the user, use descriptions and names from the text, not the 'control' values. \\n\"\n",
    "    \"---------------------\\n\"\n",
    "    \"{context_str}\"\n",
    "    \"\\n---------------------\\n\"\n",
    "    \"Answer the question for a human to understand. Additionally, return the 'Control' properties in the order of operations in the following form at the end of your response: [[control1], [control2], ...]. Append the list to your response without further comment. If no controls are found, do not comment it. Never include any controls that are not specified in the Metadata Field in the provided documentation. Do not interpret any controls from the text body. If the answer requires multiple steps, describe each step in detail. Given this information, please answer the question: {query_str}\\n\"\n",
    ")\n",
    "QA_TEMPLATE = Prompt(TEMPLATE_STR)"
   ],
   "metadata": {
    "collapsed": false
   }
  },
  {
   "cell_type": "code",
   "execution_count": 8,
   "outputs": [],
   "source": [
    "query_engine = index.as_query_engine(service_context=service_context_gpt4, text_qa_template=QA_TEMPLATE, retriever_mode=\"embedding\",callback_manager=callback_manager)"
   ],
   "metadata": {
    "collapsed": false
   }
  },
  {
   "cell_type": "code",
   "execution_count": 9,
   "outputs": [],
   "source": [
    "#dirty hack: trying to increase the context size\n",
    "query_engine.retriever._similarity_top_k = 6"
   ],
   "metadata": {
    "collapsed": false
   }
  },
  {
   "cell_type": "code",
   "execution_count": 10,
   "outputs": [
    {
     "name": "stdout",
     "output_type": "stream",
     "text": [
      "DEBUG:openai:message='Request to OpenAI API' method=post path=https://api.openai.com/v1/embeddings\n",
      "message='Request to OpenAI API' method=post path=https://api.openai.com/v1/embeddings\n",
      "DEBUG:openai:api_version=None data='{\"input\": [\"hello,how can i create a project and add some data?\"], \"model\": \"text-embedding-ada-002\", \"encoding_format\": \"base64\"}' message='Post details'\n",
      "api_version=None data='{\"input\": [\"hello,how can i create a project and add some data?\"], \"model\": \"text-embedding-ada-002\", \"encoding_format\": \"base64\"}' message='Post details'\n",
      "DEBUG:urllib3.util.retry:Converted retries value: 2 -> Retry(total=2, connect=None, read=None, redirect=None, status=None)\n",
      "Converted retries value: 2 -> Retry(total=2, connect=None, read=None, redirect=None, status=None)\n",
      "DEBUG:urllib3.connectionpool:Starting new HTTPS connection (1): api.openai.com:443\n",
      "Starting new HTTPS connection (1): api.openai.com:443\n",
      "DEBUG:urllib3.connectionpool:https://api.openai.com:443 \"POST /v1/embeddings HTTP/1.1\" 200 None\n",
      "https://api.openai.com:443 \"POST /v1/embeddings HTTP/1.1\" 200 None\n",
      "DEBUG:openai:message='OpenAI API response' path=https://api.openai.com/v1/embeddings processing_ms=23 request_id=35f0ef04183e8c5a93603f66331c53bb response_code=200\n",
      "message='OpenAI API response' path=https://api.openai.com/v1/embeddings processing_ms=23 request_id=35f0ef04183e8c5a93603f66331c53bb response_code=200\n",
      "DEBUG:llama_index.indices.utils:> Top 6 nodes:\n",
      "> [Node 43487e28-21f9-49a6-99d7-16ba7891d9f1] [Similarity score:             0.845407] Create a New Project\n",
      "\n",
      "Assigned: Fabian Stamm\n",
      "Category: Getting Started\n",
      "Control: NULL\n",
      "Priority: 5\n",
      "...\n",
      "> [Node 9b0ad209-fb0b-48e7-974d-79e0908350f8] [Similarity score:             0.820621] Long Description\n",
      "\n",
      "The server explorer lists all the projects, Spaces, and data that you have acce...\n",
      "> [Node a049808b-dba3-4f66-b57d-ad6e43e0bb8b] [Similarity score:             0.812652] Import Data\n",
      "\n",
      "Assigned: Fabian Stamm\n",
      "Category: Getting Started\n",
      "Control: ExplorerDataImporter\n",
      "Prior...\n",
      "> [Node f1b5f7d6-dbc8-4574-b80c-693ac3fa015d] [Similarity score:             0.806995] Edit Data\n",
      "\n",
      "Assigned: Fabian Stamm\n",
      "Category: Explorer Controls\n",
      "Control: EditProjectData\n",
      "Priority: ...\n",
      "> [Node 9b1c9faa-1d57-45d3-903e-6e784245c814] [Similarity score:             0.801789] Content Selection & Navigation\n",
      "\n",
      "After loading a project space containing data into your local wor...\n",
      "> [Node 10c2168e-70df-4bbe-98fe-0e2e2744a4f1] [Similarity score:             0.80099] Long Description\n",
      "\n",
      "Create a new element with respect to the explorer section you have opened:\n",
      "\n",
      "- I...\n",
      "> Top 6 nodes:\n",
      "> [Node 43487e28-21f9-49a6-99d7-16ba7891d9f1] [Similarity score:             0.845407] Create a New Project\n",
      "\n",
      "Assigned: Fabian Stamm\n",
      "Category: Getting Started\n",
      "Control: NULL\n",
      "Priority: 5\n",
      "...\n",
      "> [Node 9b0ad209-fb0b-48e7-974d-79e0908350f8] [Similarity score:             0.820621] Long Description\n",
      "\n",
      "The server explorer lists all the projects, Spaces, and data that you have acce...\n",
      "> [Node a049808b-dba3-4f66-b57d-ad6e43e0bb8b] [Similarity score:             0.812652] Import Data\n",
      "\n",
      "Assigned: Fabian Stamm\n",
      "Category: Getting Started\n",
      "Control: ExplorerDataImporter\n",
      "Prior...\n",
      "> [Node f1b5f7d6-dbc8-4574-b80c-693ac3fa015d] [Similarity score:             0.806995] Edit Data\n",
      "\n",
      "Assigned: Fabian Stamm\n",
      "Category: Explorer Controls\n",
      "Control: EditProjectData\n",
      "Priority: ...\n",
      "> [Node 9b1c9faa-1d57-45d3-903e-6e784245c814] [Similarity score:             0.801789] Content Selection & Navigation\n",
      "\n",
      "After loading a project space containing data into your local wor...\n",
      "> [Node 10c2168e-70df-4bbe-98fe-0e2e2744a4f1] [Similarity score:             0.80099] Long Description\n",
      "\n",
      "Create a new element with respect to the explorer section you have opened:\n",
      "\n",
      "- I...\n",
      "DEBUG:openai:message='Request to OpenAI API' method=post path=https://api.openai.com/v1/chat/completions\n",
      "message='Request to OpenAI API' method=post path=https://api.openai.com/v1/chat/completions\n",
      "DEBUG:openai:api_version=None data='{\"messages\": [{\"role\": \"user\", \"content\": \"You are Leia, the LiquidEarth Intelligent Assistant. You are helping a user with a question about LiquidEarth. You are very smart and friendly and always in a great mood.\\\\nIn LiquidEarth, a \\'Space\\' and a \\'Project are the same thing. We have provided Documentation on the software and further information below. In some cases the metadata includes a \\'Control\\' Field that points to a UI element in the app associated to the described functionality. this is only for internal use. when describing controls to the user, use descriptions and names from the text, not the \\'control\\' values. \\\\n---------------------\\\\nControl: NULL\\\\n\\\\nCreate a New Project\\\\n\\\\nAssigned: Fabian Stamm\\\\nCategory: Getting Started\\\\nControl: NULL\\\\nPriority: 5\\\\nProduct Version: All\\\\nStatus: Preliminary\\\\nlast updated on: November 27, 2022\\\\n\\\\nFor creating a new project space, follow these steps:\\\\n\\\\n1. Open up the server explorer on the left.\\\\n2. Click the ****Plus**** button to create a new project. It will appear at the bottom of your server explorer list.\\\\n3. Optional: To adapt basic information and project metadata (such as project name and owner), use *********Edit Data********* in the inspector.\\\\n    1. Once you have set all required fields correctly, *******Save******* them to accept the information.\\\\n        \\\\n        !new_project2.png\\\\n        \\\\n4. Via inspector, use *************Load Project************* to load it into your local workspace (3D Workspace). It will appear in your 3D workspace and listed in the Local Explorer. \\\\n    - Note that a respective message will appear in the activity log and that the loading bar will indicate the loading progress.\\\\n    - If you are working online, the project will also be automatically uploaded to the cloud or the remote server you are connected to.\\\\n\\\\nThe now-created empty project space in your 3D Workspace will by default be visualized by a bounding box that covers the extent defined when you created the project. If you didn\\\\u2019t adjust the extent, the standard is set to a cubic extent with a one-meter length for X, Y, and Z.\\\\n\\\\nThe project space provides a framework for you to start importing data. So let us continue with that.\\\\n\\\\n**********************Next Step: Import Data**\\\\n\\\\nLong Description\\\\n\\\\nThe server explorer lists all the projects, Spaces, and data that you have access to remotely, i.e. which are saved either online in the cloud, or on a remote server. You have access to projects and data that you either created or uploaded yourself, or to which your User Account has been granted access by an authorized User.\\\\n\\\\nThe server explorer lists each project with the following basic information:\\\\n\\\\n- Thumbnail  (if applicable and created by a user)\\\\n- Project name\\\\n- Project owner\\\\n- Date of creation\\\\n\\\\nTo create a new project, click the Explorer New button below the explorer ist.\\\\n\\\\nTo delete a project, select it in the list, then click the Delete a Space button below the explorer ist.\\\\n\\\\nControl: ExplorerDataImporter\\\\n\\\\nImport Data\\\\n\\\\nAssigned: Fabian Stamm\\\\nCategory: Getting Started\\\\nControl: ExplorerDataImporter\\\\nPriority: 5\\\\nProduct Version: All\\\\nStatus: Preliminary\\\\nTooltip: Open the \\\\u201cadd data\\\\u201d wizard to import datasets into your space \\\\nlast updated on: June 9, 2023\\\\n\\\\nYou can import data into any Space (including project spaces) loaded in your 3D Workspace.\\\\n\\\\nTo start importing data, select the target space and click on the *Import Data* button in the bottom left of the Local Explorer . \\\\n\\\\n!Screenshot 2022-11-25 at 09.55.44.png\\\\n\\\\nThis will open up the ******************Data Import Wizard****************** which will guide you through the import process for different types of data. For more details on  which data types are currently supported by LiquidEarth, check out the entry Import Formats.\\\\n\\\\n!Screenshot 2022-11-25 at 10.08.51.png\\\\n\\\\nThe import process depends on the type of data you want to add:\\\\n\\\\n \\\\n\\\\n- **Meshes**\\\\n    - Wavefront OBJ\\\\n    - DXF\\\\n    - OMF\\\\n    - glTF\\\\n- **Boreholes** (coming soon)\\\\n- **Volumes** (coming soon)\\\\n    \\\\n    \\\\n\\\\nChoose the type of data you want to import and follow the steps elaborated in the wizard. After finalizing the process, the data will be imported into the selected project space. This might happen quickly or take some time depending on the size of the data. A respective message will appear in the activity log and the loading bar will indicate the importing progress.\\\\n\\\\nWith the data loaded, you can now visualize and interact with it using the tools available to you in LiquidEarth (see: Visualization & Basic Interactions and Advanced Interactions).\\\\n\\\\n**Next Step:** Delete Data\\\\n\\\\nControl: EditProjectData\\\\n\\\\nEdit Data\\\\n\\\\nAssigned: Fabian Stamm\\\\nCategory: Explorer Controls\\\\nControl: EditProjectData\\\\nPriority: 10\\\\nProduct Version: All\\\\nStatus: Not started\\\\n\\\\nContent Selection & Navigation\\\\n\\\\nAfter loading a project space containing data into your local workspace (3D Workspace), it will be visualized in 3D. By default, the project space will be displayed with a bounding box which can be used to select the space by clicking on it. The data inside of a space, such as meshes, can also be selected by directly clicking on it. In general, there are various ways to navigate between different selectable content, such as by using the Breadcrumb Trail or simply via the Local Explorer. To learn more about this, see the entry on **Content Navigation**.\\\\n\\\\n!Untitled\\\\n\\\\nIf you have any content selected, it will be highlighted in the workspace and the Inspector (or its respective quickbar) will display options and tools contextual to the content.\\\\n\\\\nLong Description\\\\n\\\\nCreate a new element with respect to the explorer section you have opened:\\\\n\\\\n- In the Server Explorer you can create a new project or Space.\\\\n- In the Local Explorer you can create one of several elements in your local Workspace.\\\\n- In the Annotations Explorer you can create a new Annotation.\\\\n- In the Analysis Explorer you will create a new Probe.\\\\n---------------------\\\\nAnswer the question for a human to understand. Additionally, return the \\'Control\\' properties in the order of operations in the following form at the end of your response: [[control1], [control2], ...]. Append the list to your response without further comment. If no controls are found, do not comment it. Never include any controls that are not specified in the Metadata Field in the provided documentation. Do not interpret any controls from the text body. If the answer requires multiple steps, describe each step in detail. Given this information, please answer the question: hello,how can i create a project and add some data?\\\\n\"}], \"stream\": false, \"model\": \"gpt-4\", \"temperature\": 0.0, \"max_tokens\": null}' message='Post details'\n",
      "api_version=None data='{\"messages\": [{\"role\": \"user\", \"content\": \"You are Leia, the LiquidEarth Intelligent Assistant. You are helping a user with a question about LiquidEarth. You are very smart and friendly and always in a great mood.\\\\nIn LiquidEarth, a \\'Space\\' and a \\'Project are the same thing. We have provided Documentation on the software and further information below. In some cases the metadata includes a \\'Control\\' Field that points to a UI element in the app associated to the described functionality. this is only for internal use. when describing controls to the user, use descriptions and names from the text, not the \\'control\\' values. \\\\n---------------------\\\\nControl: NULL\\\\n\\\\nCreate a New Project\\\\n\\\\nAssigned: Fabian Stamm\\\\nCategory: Getting Started\\\\nControl: NULL\\\\nPriority: 5\\\\nProduct Version: All\\\\nStatus: Preliminary\\\\nlast updated on: November 27, 2022\\\\n\\\\nFor creating a new project space, follow these steps:\\\\n\\\\n1. Open up the server explorer on the left.\\\\n2. Click the ****Plus**** button to create a new project. It will appear at the bottom of your server explorer list.\\\\n3. Optional: To adapt basic information and project metadata (such as project name and owner), use *********Edit Data********* in the inspector.\\\\n    1. Once you have set all required fields correctly, *******Save******* them to accept the information.\\\\n        \\\\n        !new_project2.png\\\\n        \\\\n4. Via inspector, use *************Load Project************* to load it into your local workspace (3D Workspace). It will appear in your 3D workspace and listed in the Local Explorer. \\\\n    - Note that a respective message will appear in the activity log and that the loading bar will indicate the loading progress.\\\\n    - If you are working online, the project will also be automatically uploaded to the cloud or the remote server you are connected to.\\\\n\\\\nThe now-created empty project space in your 3D Workspace will by default be visualized by a bounding box that covers the extent defined when you created the project. If you didn\\\\u2019t adjust the extent, the standard is set to a cubic extent with a one-meter length for X, Y, and Z.\\\\n\\\\nThe project space provides a framework for you to start importing data. So let us continue with that.\\\\n\\\\n**********************Next Step: Import Data**\\\\n\\\\nLong Description\\\\n\\\\nThe server explorer lists all the projects, Spaces, and data that you have access to remotely, i.e. which are saved either online in the cloud, or on a remote server. You have access to projects and data that you either created or uploaded yourself, or to which your User Account has been granted access by an authorized User.\\\\n\\\\nThe server explorer lists each project with the following basic information:\\\\n\\\\n- Thumbnail  (if applicable and created by a user)\\\\n- Project name\\\\n- Project owner\\\\n- Date of creation\\\\n\\\\nTo create a new project, click the Explorer New button below the explorer ist.\\\\n\\\\nTo delete a project, select it in the list, then click the Delete a Space button below the explorer ist.\\\\n\\\\nControl: ExplorerDataImporter\\\\n\\\\nImport Data\\\\n\\\\nAssigned: Fabian Stamm\\\\nCategory: Getting Started\\\\nControl: ExplorerDataImporter\\\\nPriority: 5\\\\nProduct Version: All\\\\nStatus: Preliminary\\\\nTooltip: Open the \\\\u201cadd data\\\\u201d wizard to import datasets into your space \\\\nlast updated on: June 9, 2023\\\\n\\\\nYou can import data into any Space (including project spaces) loaded in your 3D Workspace.\\\\n\\\\nTo start importing data, select the target space and click on the *Import Data* button in the bottom left of the Local Explorer . \\\\n\\\\n!Screenshot 2022-11-25 at 09.55.44.png\\\\n\\\\nThis will open up the ******************Data Import Wizard****************** which will guide you through the import process for different types of data. For more details on  which data types are currently supported by LiquidEarth, check out the entry Import Formats.\\\\n\\\\n!Screenshot 2022-11-25 at 10.08.51.png\\\\n\\\\nThe import process depends on the type of data you want to add:\\\\n\\\\n \\\\n\\\\n- **Meshes**\\\\n    - Wavefront OBJ\\\\n    - DXF\\\\n    - OMF\\\\n    - glTF\\\\n- **Boreholes** (coming soon)\\\\n- **Volumes** (coming soon)\\\\n    \\\\n    \\\\n\\\\nChoose the type of data you want to import and follow the steps elaborated in the wizard. After finalizing the process, the data will be imported into the selected project space. This might happen quickly or take some time depending on the size of the data. A respective message will appear in the activity log and the loading bar will indicate the importing progress.\\\\n\\\\nWith the data loaded, you can now visualize and interact with it using the tools available to you in LiquidEarth (see: Visualization & Basic Interactions and Advanced Interactions).\\\\n\\\\n**Next Step:** Delete Data\\\\n\\\\nControl: EditProjectData\\\\n\\\\nEdit Data\\\\n\\\\nAssigned: Fabian Stamm\\\\nCategory: Explorer Controls\\\\nControl: EditProjectData\\\\nPriority: 10\\\\nProduct Version: All\\\\nStatus: Not started\\\\n\\\\nContent Selection & Navigation\\\\n\\\\nAfter loading a project space containing data into your local workspace (3D Workspace), it will be visualized in 3D. By default, the project space will be displayed with a bounding box which can be used to select the space by clicking on it. The data inside of a space, such as meshes, can also be selected by directly clicking on it. In general, there are various ways to navigate between different selectable content, such as by using the Breadcrumb Trail or simply via the Local Explorer. To learn more about this, see the entry on **Content Navigation**.\\\\n\\\\n!Untitled\\\\n\\\\nIf you have any content selected, it will be highlighted in the workspace and the Inspector (or its respective quickbar) will display options and tools contextual to the content.\\\\n\\\\nLong Description\\\\n\\\\nCreate a new element with respect to the explorer section you have opened:\\\\n\\\\n- In the Server Explorer you can create a new project or Space.\\\\n- In the Local Explorer you can create one of several elements in your local Workspace.\\\\n- In the Annotations Explorer you can create a new Annotation.\\\\n- In the Analysis Explorer you will create a new Probe.\\\\n---------------------\\\\nAnswer the question for a human to understand. Additionally, return the \\'Control\\' properties in the order of operations in the following form at the end of your response: [[control1], [control2], ...]. Append the list to your response without further comment. If no controls are found, do not comment it. Never include any controls that are not specified in the Metadata Field in the provided documentation. Do not interpret any controls from the text body. If the answer requires multiple steps, describe each step in detail. Given this information, please answer the question: hello,how can i create a project and add some data?\\\\n\"}], \"stream\": false, \"model\": \"gpt-4\", \"temperature\": 0.0, \"max_tokens\": null}' message='Post details'\n",
      "DEBUG:urllib3.connectionpool:https://api.openai.com:443 \"POST /v1/chat/completions HTTP/1.1\" 200 None\n",
      "https://api.openai.com:443 \"POST /v1/chat/completions HTTP/1.1\" 200 None\n",
      "DEBUG:openai:message='OpenAI API response' path=https://api.openai.com/v1/chat/completions processing_ms=25503 request_id=342c6428fa22178a873b30612c83e7c2 response_code=200\n",
      "message='OpenAI API response' path=https://api.openai.com/v1/chat/completions processing_ms=25503 request_id=342c6428fa22178a873b30612c83e7c2 response_code=200\n",
      "DEBUG:llama_index.llm_predictor.base:Hello! Here's how you can create a project and add data in LiquidEarth:\n",
      "\n",
      "**Creating a New Project:**\n",
      "\n",
      "1. Open the server explorer on the left side of your screen.\n",
      "2. Click the Plus button at the bottom of your server explorer list to create a new project.\n",
      "3. (Optional) You can adapt basic information and project metadata such as the project name and owner by using the Edit Data option in the inspector. Once you've set all required fields correctly, click Save to accept the information.\n",
      "4. Use the Load Project option in the inspector to load your project into your local workspace (3D Workspace). Your project will appear in your 3D workspace and will be listed in the Local Explorer. If you're working online, the project will also be automatically uploaded to the cloud or the remote server you're connected to.\n",
      "\n",
      "**Adding Data to Your Project:**\n",
      "\n",
      "1. Select the target space (your newly created project) and click on the Import Data button in the bottom left of the Local Explorer.\n",
      "2. This will open the Data Import Wizard which will guide you through the import process for different types of data. Choose the type of data you want to import and follow the steps provided by the wizard.\n",
      "3. After finalizing the process, the data will be imported into your selected project space. This might happen quickly or take some time depending on the size of the data.\n",
      "\n",
      "Once you've imported your data, you can visualize and interact with it using the tools available in LiquidEarth.\n",
      "\n",
      "[[NULL], [ExplorerDataImporter], [EditProjectData]]\n",
      "Hello! Here's how you can create a project and add data in LiquidEarth:\n",
      "\n",
      "**Creating a New Project:**\n",
      "\n",
      "1. Open the server explorer on the left side of your screen.\n",
      "2. Click the Plus button at the bottom of your server explorer list to create a new project.\n",
      "3. (Optional) You can adapt basic information and project metadata such as the project name and owner by using the Edit Data option in the inspector. Once you've set all required fields correctly, click Save to accept the information.\n",
      "4. Use the Load Project option in the inspector to load your project into your local workspace (3D Workspace). Your project will appear in your 3D workspace and will be listed in the Local Explorer. If you're working online, the project will also be automatically uploaded to the cloud or the remote server you're connected to.\n",
      "\n",
      "**Adding Data to Your Project:**\n",
      "\n",
      "1. Select the target space (your newly created project) and click on the Import Data button in the bottom left of the Local Explorer.\n",
      "2. This will open the Data Import Wizard which will guide you through the import process for different types of data. Choose the type of data you want to import and follow the steps provided by the wizard.\n",
      "3. After finalizing the process, the data will be imported into your selected project space. This might happen quickly or take some time depending on the size of the data.\n",
      "\n",
      "Once you've imported your data, you can visualize and interact with it using the tools available in LiquidEarth.\n",
      "\n",
      "[[NULL], [ExplorerDataImporter], [EditProjectData]]\n",
      "LLM Prompt Token Usage: 1393\n",
      "LLM Completion Token Usage: 318\n"
     ]
    }
   ],
   "source": [
    "response = query_engine.query(\"hello,how can i create a project and add some data?\")"
   ],
   "metadata": {
    "collapsed": false
   }
  },
  {
   "cell_type": "code",
   "execution_count": 11,
   "outputs": [
    {
     "name": "stdout",
     "output_type": "stream",
     "text": [
      "Hello! Here's how you can create a project and add data in LiquidEarth:\n",
      "\n",
      "**Creating a New Project:**\n",
      "\n",
      "1. Open the server explorer on the left side of your screen.\n",
      "2. Click the Plus button at the bottom of your server explorer list to create a new project.\n",
      "3. (Optional) You can adapt basic information and project metadata such as the project name and owner by using the Edit Data option in the inspector. Once you've set all required fields correctly, click Save to accept the information.\n",
      "4. Use the Load Project option in the inspector to load your project into your local workspace (3D Workspace). Your project will appear in your 3D workspace and will be listed in the Local Explorer. If you're working online, the project will also be automatically uploaded to the cloud or the remote server you're connected to.\n",
      "\n",
      "**Adding Data to Your Project:**\n",
      "\n",
      "1. Select the target space (your newly created project) and click on the Import Data button in the bottom left of the Local Explorer.\n",
      "2. This will open the Data Import Wizard which will guide you through the import process for different types of data. Choose the type of data you want to import and follow the steps provided by the wizard.\n",
      "3. After finalizing the process, the data will be imported into your selected project space. This might happen quickly or take some time depending on the size of the data.\n",
      "\n",
      "Once you've imported your data, you can visualize and interact with it using the tools available in LiquidEarth.\n",
      "\n",
      "[[NULL], [ExplorerDataImporter], [EditProjectData]]\n"
     ]
    }
   ],
   "source": [
    "print(response)"
   ],
   "metadata": {
    "collapsed": false
   }
  },
  {
   "cell_type": "markdown",
   "source": [
    "## Chat with a prompt template (ToDo)"
   ],
   "metadata": {
    "collapsed": false
   }
  },
  {
   "cell_type": "code",
   "execution_count": null,
   "outputs": [],
   "source": [
    "custom_prompt = Prompt(\"\"\"\\\n",
    "Given a conversation (between Human and Assistant) and a follow up message from Human, \\\n",
    "rewrite the message to be a standalone question that captures all relevant context \\\n",
    "from the conversation.\n",
    "\n",
    "<Chat History>\n",
    "{chat_history}\n",
    "\n",
    "<Follow Up Message>\n",
    "{question}\n",
    "\n",
    "<Standalone question>\n",
    "\"\"\")\n",
    "\n",
    "# list of (human_message, ai_message) tuples\n",
    "custom_chat_history = [\n",
    "    (\n",
    "        'Hello assistant, we are having a insightful discussion about Paul Graham today.',\n",
    "        'Okay, sounds good.'\n",
    "    )\n",
    "]\n",
    "\n",
    "query_engine = index.as_query_engine()\n",
    "chat_engine = CondenseQuestionChatEngine.from_defaults(\n",
    "    query_engine=query_engine,\n",
    "    condense_question_prompt=custom_prompt,\n",
    "    chat_history=custom_chat_history,\n",
    "    verbose=True\n",
    ")"
   ],
   "metadata": {
    "collapsed": false
   }
  },
  {
   "cell_type": "markdown",
   "source": [
    "## print token usage"
   ],
   "metadata": {
    "collapsed": false
   }
  },
  {
   "cell_type": "code",
   "execution_count": 12,
   "outputs": [
    {
     "name": "stdout",
     "output_type": "stream",
     "text": [
      "Embedding Tokens:  0 \n",
      " LLM Prompt Tokens:  1393 \n",
      " LLM Completion Tokens:  318 \n",
      " Total LLM Token Count:  1711\n"
     ]
    }
   ],
   "source": [
    "print('Embedding Tokens: ', token_counter.total_embedding_token_count, '\\n',\n",
    "      'LLM Prompt Tokens: ', token_counter.prompt_llm_token_count, '\\n',\n",
    "      'LLM Completion Tokens: ', token_counter.completion_llm_token_count, '\\n',\n",
    "      'Total LLM Token Count: ', token_counter.total_llm_token_count)"
   ],
   "metadata": {
    "collapsed": false
   }
  },
  {
   "cell_type": "code",
   "execution_count": null,
   "outputs": [],
   "source": [],
   "metadata": {
    "collapsed": false
   }
  }
 ],
 "metadata": {
  "kernelspec": {
   "display_name": "Python 3",
   "language": "python",
   "name": "python3"
  },
  "language_info": {
   "codemirror_mode": {
    "name": "ipython",
    "version": 2
   },
   "file_extension": ".py",
   "mimetype": "text/x-python",
   "name": "python",
   "nbconvert_exporter": "python",
   "pygments_lexer": "ipython2",
   "version": "2.7.6"
  }
 },
 "nbformat": 4,
 "nbformat_minor": 0
}
