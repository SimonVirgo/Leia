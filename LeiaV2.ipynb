{
 "cells": [
  {
   "cell_type": "code",
   "execution_count": 1,
   "outputs": [],
   "source": [
    "import os\n",
    "import json\n"
   ],
   "metadata": {
    "collapsed": false
   }
  },
  {
   "cell_type": "code",
   "execution_count": 2,
   "outputs": [],
   "source": [
    "# Open and read the config file\n",
    "with open('config.json', 'r') as config_file:\n",
    "    config_data = json.load(config_file)\n",
    "\n",
    "# Retrieve the API key from the config data\n",
    "api_key = config_data['api_key']\n",
    "os.environ['OPENAI_API_KEY'] = api_key"
   ],
   "metadata": {
    "collapsed": false
   }
  },
  {
   "cell_type": "markdown",
   "source": [
    "## Load the index"
   ],
   "metadata": {
    "collapsed": false
   }
  },
  {
   "cell_type": "code",
   "execution_count": 3,
   "outputs": [],
   "source": [
    "from llama_index import StorageContext, load_index_from_storage\n",
    "\n",
    "# rebuild storage context\n",
    "storage_context = StorageContext.from_defaults(persist_dir=\"./storage\")\n",
    "# load index\n",
    "index = load_index_from_storage(storage_context)"
   ],
   "metadata": {
    "collapsed": false
   }
  },
  {
   "cell_type": "markdown",
   "source": [
    "## Query index"
   ],
   "metadata": {
    "collapsed": false
   }
  },
  {
   "cell_type": "code",
   "execution_count": 4,
   "outputs": [],
   "source": [
    "# create query engine\n",
    "# it will use lazy embedding\n",
    "queryEngine = index.as_query_engine()"
   ],
   "metadata": {
    "collapsed": false
   }
  },
  {
   "cell_type": "code",
   "execution_count": 5,
   "outputs": [
    {
     "data": {
      "text/plain": "Response(response='\\n1. Select the “Tunneling” option from the “Projects” tab.\\n2. Select the “Create” button to start a new project.\\n3. Select the “Import” button to upload the 3D geological data.\\n4. Select the “Analyze” button to analyze the data.\\n5. Select the “Design” button to design the tunneling project.\\n6. Select the “Simulate” button to simulate the project.\\n7. Select the “Export” button to export the project.', source_nodes=[NodeWithScore(node=TextNode(id_='f15bb996-8bcd-4113-b0fb-e3e87b27debd', embedding=None, metadata={}, excluded_embed_metadata_keys=[], excluded_llm_metadata_keys=[], relationships={<NodeRelationship.SOURCE: '1'>: RelatedNodeInfo(node_id='2aebf52a-532c-4862-983f-830390801537', node_type=None, metadata={}, hash='e23fdfe472529d28782acc176c21be8a7053496336abdf00326a04e7c106a788')}, hash='97bbeea97343bad39518559157513c9a3250c3b321b872880aba521b8b7e14af', text='LiquidEarth Documentation\\n\\nAll things related to the product - processes, best practices, setup guides, and more!\\n\\nWelcome to LiquidEarth, a cloud-based solution for the visualization, processing, and analysis of 3D geological data, models, and more.\\n\\nThis user manual is here to support you in your work with LiquidEarth. If this is your first time using the app, check out the “Getting Started” section in this manual.\\n\\nIf you need any more help, you can also contact us at\\xa0support@terranigma-solutions.com .', start_char_idx=0, end_char_idx=510, text_template='{metadata_str}\\n\\n{content}', metadata_template='{key}: {value}', metadata_seperator='\\n'), score=0.8046829756481568), NodeWithScore(node=TextNode(id_='a8298179-84fe-4863-a324-a39dde13662d', embedding=None, metadata={}, excluded_embed_metadata_keys=[], excluded_llm_metadata_keys=[], relationships={<NodeRelationship.SOURCE: '1'>: RelatedNodeInfo(node_id='a686d205-60cc-4c2b-bd78-ef3efe789fcf', node_type=None, metadata={}, hash='b4769adb1fd782b85a525f29ff9f6a9d473d43d83b0abab1e5cbdab7646de7ce')}, hash='8b7eb294ddbd308bbdf19d82eefa9c1599646dd731460b59528570fc468bd0e5', text='Long Description\\n\\nOpen the LiquidEarth user manual and knowledge base.', start_char_idx=0, end_char_idx=70, text_template='{metadata_str}\\n\\n{content}', metadata_template='{key}: {value}', metadata_seperator='\\n'), score=0.8019071163285273)], metadata={'f15bb996-8bcd-4113-b0fb-e3e87b27debd': {}, 'a8298179-84fe-4863-a324-a39dde13662d': {}})"
     },
     "execution_count": 5,
     "metadata": {},
     "output_type": "execute_result"
    }
   ],
   "source": [
    "queryEngine.query(\"how do I plan a tunneling project in LiquidEarth? Try finding the Control Fields for each steps of the workflow and append them as a list in order of the operations to your response. only include controls that you are confident exist and are relevant to the question. Only answer this question if you can find the answer in the documentation. If no documentation is found, ask the user to rephrase the question.\")"
   ],
   "metadata": {
    "collapsed": false
   }
  },
  {
   "cell_type": "markdown",
   "source": [
    "## Query with a prompt template"
   ],
   "metadata": {
    "collapsed": false
   }
  },
  {
   "cell_type": "code",
   "execution_count": 7,
   "outputs": [
    {
     "name": "stdout",
     "output_type": "stream",
     "text": [
      "\n",
      "To create a project, open up the server explorer on the left and click the Plus button to create a new project. It will appear at the bottom of your server explorer list. To adapt basic information and project metadata (such as project name and owner), use Edit Data in the inspector. Once you have set all required fields correctly, Save them to accept the information. Then, use Load Project in the inspector to load it into your local workspace (3D Workspace). It will appear in your 3D workspace and listed in the Local Explorer. [[Plus], [Edit Data], [Save], [Load Project]].\n"
     ]
    }
   ],
   "source": [
    "from llama_index import Prompt\n",
    "# define custom Prompt\n",
    "TEMPLATE_STR = (\n",
    "    \"We have provided Documentation on the software and further information below. The Documentation includes Control properties, with the name of the UI element for a certain functionality within the LiquidEarth App .\\n\"\n",
    "    \"---------------------\\n\"\n",
    "    \"{context_str}\"\n",
    "    \"\\n---------------------\\n\"\n",
    "    \"Answer the question for a human to understand. Additionally, ONLY where controls are available and, return the control properties in the order of operations in the following form at the end of your response: [[control1], [control2], ...]. Never include any controls that are empty or not specifically included as Control properties in the provided documentation. Given this information, please answer the question: {query_str}\\n\"\n",
    ")\n",
    "QA_TEMPLATE = Prompt(TEMPLATE_STR)\n",
    "\n",
    "# Configure query engine\n",
    "query_engine = index.as_query_engine(text_qa_template=QA_TEMPLATE)\n",
    "\n",
    "# Execute query\n",
    "response = query_engine.query(\"how can I create a project?\")\n",
    "print(response)"
   ],
   "metadata": {
    "collapsed": false
   }
  },
  {
   "cell_type": "code",
   "execution_count": 28,
   "outputs": [],
   "source": [
    "response = query_engine.query(\"how to install liquidEarth on my quest?\")"
   ],
   "metadata": {
    "collapsed": false
   }
  },
  {
   "cell_type": "code",
   "execution_count": 29,
   "outputs": [
    {
     "name": "stdout",
     "output_type": "stream",
     "text": [
      "\n",
      "To install LiquidEarth on your Quest device, you will need to have a valid Meta/Oculus account. First, submit the email address associated with your Oculus/Meta account via the respective text field. Your account will then be added to the App Lab Beta channel for LiquidEarth. This process can take up to one working day and you will receive a confirmation e-mail. In the confirmation e-mail, activate the verification link and log in with your Meta account. Ensure your Quest device is connected to the internet and that you are signed into it with the correct account. Now LiquidEarth will appear in the Quest Store if you are logged in with your account and search for “LiquidEarth” using the search box using either a web browser, the Meta Quest app on your phone, or the Store on your Quest Device. On the Store on the Quest device, click the LiquidEarth app tile to install it. Once installed, the LiquidEarth app will appear in your App Library. Alternatively you can use the Meta Quest app on your phone to install LiquidEarth to paired Quest devices. [[text field], [App Lab Beta channel], [verification link], [search box], [Store on Quest device], [App Library], [Meta Quest app on phone]].\n"
     ]
    }
   ],
   "source": [
    "print(response)"
   ],
   "metadata": {
    "collapsed": false
   }
  },
  {
   "cell_type": "code",
   "execution_count": null,
   "outputs": [],
   "source": [],
   "metadata": {
    "collapsed": false
   }
  }
 ],
 "metadata": {
  "kernelspec": {
   "display_name": "Python 3",
   "language": "python",
   "name": "python3"
  },
  "language_info": {
   "codemirror_mode": {
    "name": "ipython",
    "version": 2
   },
   "file_extension": ".py",
   "mimetype": "text/x-python",
   "name": "python",
   "nbconvert_exporter": "python",
   "pygments_lexer": "ipython2",
   "version": "2.7.6"
  }
 },
 "nbformat": 4,
 "nbformat_minor": 0
}
