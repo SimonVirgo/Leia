{
 "cells": [
  {
   "cell_type": "code",
   "execution_count": 1,
   "outputs": [],
   "source": [
    "import os\n",
    "import sys\n",
    "import json"
   ],
   "metadata": {
    "collapsed": false
   }
  },
  {
   "cell_type": "code",
   "execution_count": 2,
   "outputs": [],
   "source": [
    "# Open and read the config file\n",
    "with open('config.json', 'r') as config_file:\n",
    "    config_data = json.load(config_file)\n",
    "\n",
    "# Retrieve the API key from the config data\n",
    "api_key = config_data['api_key']\n",
    "os.environ['OPENAI_API_KEY'] = api_key"
   ],
   "metadata": {
    "collapsed": false
   }
  },
  {
   "cell_type": "markdown",
   "source": [
    "## logging"
   ],
   "metadata": {
    "collapsed": false
   }
  },
  {
   "cell_type": "code",
   "execution_count": 3,
   "outputs": [],
   "source": [
    "import tiktoken\n",
    "from llama_index.callbacks import CallbackManager, TokenCountingHandler\n",
    "from llama_index import VectorStoreIndex, SimpleDirectoryReader, ServiceContext\n",
    "\n",
    "# you can set a tokenizer directly, or optionally let it default\n",
    "# to the same tokenizer that was used previously for token counting\n",
    "# NOTE: The tokenizer should be a function that takes in text and returns a list of tokens\n",
    "token_counter = TokenCountingHandler(\n",
    "    tokenizer=tiktoken.encoding_for_model(\"gpt-4\").encode,\n",
    "    verbose=True  # set to true to see usage printed to the console\n",
    "    )\n",
    "callback_manager = CallbackManager([token_counter])"
   ],
   "metadata": {
    "collapsed": false
   }
  },
  {
   "cell_type": "markdown",
   "source": [
    "## create a new index from scratch\n",
    "check [LlamaHub](https://llamahub.ai/) for different helpers to create an index.\n",
    "export notion pages, etc. to markdown and put them into the data folder.\n",
    "For now exclude the images, they currently blow up the chunk size limit."
   ],
   "metadata": {
    "collapsed": false
   }
  },
  {
   "cell_type": "code",
   "execution_count": 4,
   "outputs": [],
   "source": [
    "# Load you data into 'Documents' a custom type by LlamaIndex\n",
    "from llama_index import SimpleDirectoryReader\n",
    "\n",
    "documents = SimpleDirectoryReader('./data', recursive=True).load_data()"
   ],
   "metadata": {
    "collapsed": false
   }
  },
  {
   "cell_type": "markdown",
   "source": [
    "### add metadata"
   ],
   "metadata": {
    "collapsed": false
   }
  },
  {
   "cell_type": "code",
   "execution_count": 5,
   "outputs": [
    {
     "name": "stdout",
     "output_type": "stream",
     "text": [
      "NULL\n",
      "NULL\n",
      "LogWindow\n",
      "AcceptAddSpace\n",
      "NULL\n",
      "AnalysisTabButton\n",
      "NULL\n",
      "AnnotationsTabButton\n",
      "AnnotationsList\n",
      "NULL\n",
      "AutomaticCollabToggle\n",
      "AvailableDataListView\n",
      "ProjectAvailableOfflineToggle\n",
      "AvailableSessionsList\n",
      "NULL\n",
      "BreadCrumbs\n",
      "NULL\n",
      "NULL\n",
      "NULL\n",
      "CollabMenu\n",
      "StartCollab\n",
      "StopCollab\n",
      "NULL\n",
      "ConnectedUsersList\n",
      "CopyPublicLinkToSpaceButton\n",
      "CopyPublicLinkToViewButton\n",
      "NULL\n",
      "NULL\n",
      "NULL\n",
      "NULL\n",
      "DeleteExplorerButton\n",
      "DuplicateSpaceButton\n",
      "EditProjectData\n",
      "NULL\n",
      "NULL\n",
      "ExpandLogButton\n",
      "OpenExplorerButton\n",
      "CloseExplorerButton\n",
      "AddExplorerButton\n",
      "ExplorerOptionsButton\n",
      "NULL\n",
      "NULL\n",
      "NULL\n",
      "NULL\n",
      "NULL\n",
      "NULL\n",
      "ExplorerDataImporter\n",
      "NULL\n",
      "CloseInspectorButton\n",
      "EditName\n",
      "NULL\n",
      "NULL\n",
      "NULL\n",
      "NULL\n",
      "NULL\n",
      "LoadProject\n",
      "NULL\n",
      "LocalDataTabButton; OpenLocalButton\n",
      "NULL\n",
      "LoginButton\n",
      "NULL\n",
      "MaxExtent\n",
      "MinExtent\n",
      "NULL\n",
      "NULL\n",
      "AddSessionButton\n",
      "NULL\n",
      "OfflineStartButtonControl\n",
      "OpenInspectorButton\n",
      "LiquidpediaButton\n",
      "NULL\n",
      "NULL\n",
      "LoginPassword\n",
      "NULL\n",
      "NULL\n",
      "NULL\n",
      "NULL\n",
      "NULL\n",
      "RememberAccount\n",
      "NULL\n",
      "NULL\n",
      "ProjectsTabButton; OpenProjectsButton\n",
      "NULL\n",
      "SessionNamingField\n",
      "NULL\n",
      "NULL\n",
      "NULL\n",
      "NULL\n",
      "NULL\n",
      "NULL\n",
      "NULL\n",
      "NULL\n",
      "NULL\n",
      "NULL\n",
      "NULL\n",
      "NULL\n",
      "NULL\n",
      "NULL\n",
      "NULL\n",
      "NULL\n",
      "SettingsAutoCacheSizeLimitDropdown\n",
      "NULL\n",
      "NULL\n",
      "NULL\n",
      "NULL\n",
      "NULL\n",
      "ShareSpaceButton\n",
      "NULL\n",
      "NULL\n",
      "SpatialMenu\n",
      "NULL\n",
      "NULL\n",
      "SubspacesList\n",
      "NULL\n",
      "NULL\n",
      "ProjectThumbnail\n",
      "NULL\n",
      "NULL\n",
      "LoginUser\n",
      "NULL\n",
      "NetworkPanel\n",
      "NULL\n",
      "HideShowQuickAccess\n",
      "NULL\n",
      "NULL\n",
      "NULL\n",
      "NULL\n",
      "ImportObjButton\n",
      "ImportObjButton\n"
     ]
    }
   ],
   "source": [
    "import re\n",
    "\n",
    "# save control fields in the documents metadata\n",
    "for doc in documents:tidy up\n",
    "\n",
    "    # extract the Value of the control from the text with regex. controls are in the format: /nControl: Value/n\n",
    "    contr = re.search(r'(?<=\\nControl: ).*(?=\\n)', doc.text)\n",
    "    #check if a control value was found and write it to the metadata\n",
    "    if contr:\n",
    "        doc.metadata['Control'] = contr.group(0)\n",
    "        print(doc.metadata['Control'])"
   ],
   "metadata": {
    "collapsed": false
   }
  },
  {
   "cell_type": "code",
   "execution_count": 6,
   "outputs": [],
   "source": [
    "# This is for when building the index from nodes instead Documents:\n",
    "# Nodes are usefull when the same nodes should be part of several indexes\n",
    "from llama_index.node_parser import SimpleNodeParser\n",
    "\n",
    "parser = SimpleNodeParser()\n",
    "\n",
    "nodes = parser.get_nodes_from_documents(documents)"
   ],
   "metadata": {
    "collapsed": false
   }
  },
  {
   "cell_type": "code",
   "execution_count": 9,
   "outputs": [
    {
     "name": "stdout",
     "output_type": "stream",
     "text": [
      "Embedding Token Usage: 628\n",
      "Embedding Token Usage: 335\n",
      "Embedding Token Usage: 329\n",
      "Embedding Token Usage: 421\n",
      "Embedding Token Usage: 1004\n",
      "Embedding Token Usage: 545\n",
      "Embedding Token Usage: 1510\n",
      "Embedding Token Usage: 831\n",
      "Embedding Token Usage: 279\n",
      "Embedding Token Usage: 851\n",
      "Embedding Token Usage: 706\n",
      "Embedding Token Usage: 560\n",
      "Embedding Token Usage: 757\n",
      "Embedding Token Usage: 383\n",
      "Embedding Token Usage: 425\n",
      "Embedding Token Usage: 300\n",
      "Embedding Token Usage: 565\n",
      "Embedding Token Usage: 723\n",
      "Embedding Token Usage: 285\n",
      "Embedding Token Usage: 573\n",
      "Embedding Token Usage: 499\n",
      "Embedding Token Usage: 826\n",
      "Embedding Token Usage: 345\n",
      "Embedding Token Usage: 388\n",
      "Embedding Token Usage: 1471\n",
      "Embedding Token Usage: 1206\n",
      "Embedding Token Usage: 9062\n",
      "Embedding Token Usage: 412\n",
      "Embedding Token Usage: 931\n",
      "Embedding Token Usage: 1048\n",
      "Embedding Token Usage: 2510\n",
      "Embedding Token Usage: 1103\n",
      "Embedding Token Usage: 4367\n",
      "Embedding Token Usage: 3477\n"
     ]
    }
   ],
   "source": [
    "from llama_index import VectorStoreIndex\n",
    "from llama_index import LangchainEmbedding, ServiceContext\n",
    "\n",
    "service_context = ServiceContext.from_defaults(callback_manager=callback_manager) # use default settings but connect the token logger\n",
    "index = VectorStoreIndex.from_documents(documents, service_context=service_context)"
   ],
   "metadata": {
    "collapsed": false
   }
  },
  {
   "cell_type": "code",
   "execution_count": 10,
   "outputs": [
    {
     "name": "stdout",
     "output_type": "stream",
     "text": [
      "39655\n"
     ]
    }
   ],
   "source": [
    "print(token_counter.total_embedding_token_count)"
   ],
   "metadata": {
    "collapsed": false
   }
  },
  {
   "cell_type": "markdown",
   "source": [
    "## save the index\n",
    "\n",
    "saves the index under /storage in json format"
   ],
   "metadata": {
    "collapsed": false
   }
  },
  {
   "cell_type": "code",
   "execution_count": 13,
   "outputs": [],
   "source": [
    "index.storage_context.persist()"
   ],
   "metadata": {
    "collapsed": false
   }
  },
  {
   "cell_type": "code",
   "execution_count": null,
   "outputs": [],
   "source": [],
   "metadata": {
    "collapsed": false
   }
  }
 ],
 "metadata": {
  "kernelspec": {
   "display_name": "Python 3",
   "language": "python",
   "name": "python3"
  },
  "language_info": {
   "codemirror_mode": {
    "name": "ipython",
    "version": 2
   },
   "file_extension": ".py",
   "mimetype": "text/x-python",
   "name": "python",
   "nbconvert_exporter": "python",
   "pygments_lexer": "ipython2",
   "version": "2.7.6"
  }
 },
 "nbformat": 4,
 "nbformat_minor": 0
}
